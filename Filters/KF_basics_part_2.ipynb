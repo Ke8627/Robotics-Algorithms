{
 "cells": [
  {
   "cell_type": "markdown",
   "metadata": {},
   "source": [
    "# KF Basics - Part 2"
   ]
  },
  {
   "cell_type": "markdown",
   "metadata": {},
   "source": [
    "#### Probabilistic Generative Laws\n",
    "**1st Law**:\n",
    "The belief representting the state $x_{t}$, is conditioned on all past states, measurements and controls. This can be shown mathematically by the conditional probability shown below:\n",
    "\n",
    "$$p(x_{t} | x_{0:t-1},z_{1:t-1},u_{1:t})$$\n",
    "\n",
    "1) $z_{t}$ represents the **measurement**\n",
    "\n",
    "2) $u_{t}$ the **motion command**\n",
    "\n",
    "3) $x_{t}$ the **state** (can be the position, velocity, etc) of the robot or its environment at time t.\n",
    "\n",
    "\n",
    "'If we know the state $x_{t-1}$ and $u_{t}$, then knowing the states $x_{0:t-2}$, $z_{1:t-1}$ becomes immaterial through the property of **conditional Independance**'. The state $x_{t-1}$ introduces a conditional independance between $x_{t}$ and $z_{1:t-1}$, $u_{1:t-1}$\n",
    "\n",
    "Therefore the law now holds as:\n",
    "\n",
    "$$p(x_{t} | x_{0:t-1},z_{1:t-1},u_{1:t})=p(x_{t} | x_{t-1},u_{t})$$\n",
    "\n",
    "**2nd Law**:\n",
    "\n",
    "If $x_{t}$ is complete, then:\n",
    "\n",
    "$$p(z_{t} | x-_{0:t},z_{1:t-1},u_{1:t})=p(z_{t} | x_{t})$$\n",
    "\n",
    "$x_{t}$ is **complete** means that the past states, controls or measurements carry no additional information to predict future.\n",
    "\n",
    "$x_{0:t-1}$, $z_{1:t-1}$ and $u_{1:t}$ are **conditionally independant of $z_{t}$ given $x_{t}$ of complete.\n",
    "\n",
    "The filter works in two parts:\n",
    "\n",
    "$\\blacklozenge$  $p(x_{t} | x_{t-1},u_{t})\\rightarrow $**State Transition Probability**\n",
    "\n",
    "$\\blacklozenge$  $p(z_{t} | x_{t}) \\rightarrow $**Measurement Probability**"
   ]
  },
  {
   "cell_type": "code",
   "execution_count": null,
   "metadata": {},
   "outputs": [],
   "source": []
  },
  {
   "cell_type": "markdown",
   "metadata": {},
   "source": []
  }
 ],
 "metadata": {
  "kernelspec": {
   "display_name": "Python 3",
   "language": "python",
   "name": "python3"
  },
  "language_info": {
   "codemirror_mode": {
    "name": "ipython",
    "version": 3
   },
   "file_extension": ".py",
   "mimetype": "text/x-python",
   "name": "python",
   "nbconvert_exporter": "python",
   "pygments_lexer": "ipython3",
   "version": "3.6.5"
  }
 },
 "nbformat": 4,
 "nbformat_minor": 2
}
